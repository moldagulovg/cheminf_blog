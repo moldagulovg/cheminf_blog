{
 "cells": [
  {
   "cell_type": "code",
   "execution_count": 14,
   "metadata": {},
   "outputs": [],
   "source": [
    "from jinja2 import Environment, FileSystemLoader\n",
    "import os\n",
    "\n",
    "from global_variables import DIR_PATH\n"
   ]
  },
  {
   "cell_type": "code",
   "execution_count": 3,
   "metadata": {},
   "outputs": [],
   "source": [
    "# Set up Jinja2 environment\n",
    "env = Environment(loader=FileSystemLoader(searchpath=\"./\"))\n",
    "\n"
   ]
  },
  {
   "cell_type": "code",
   "execution_count": 16,
   "metadata": {},
   "outputs": [
    {
     "ename": "TemplateNotFound",
     "evalue": "/home/galymzhan/cheminf_blog/pages/template.html",
     "output_type": "error",
     "traceback": [
      "\u001b[0;31m---------------------------------------------------------------------------\u001b[0m",
      "\u001b[0;31mTemplateNotFound\u001b[0m                          Traceback (most recent call last)",
      "Cell \u001b[0;32mIn[16], line 3\u001b[0m\n\u001b[1;32m      1\u001b[0m \u001b[38;5;66;03m# Load the template\u001b[39;00m\n\u001b[1;32m      2\u001b[0m template_path \u001b[38;5;241m=\u001b[39m os\u001b[38;5;241m.\u001b[39mpath\u001b[38;5;241m.\u001b[39mjoin(DIR_PATH, \u001b[38;5;124m'\u001b[39m\u001b[38;5;124mpages\u001b[39m\u001b[38;5;124m'\u001b[39m, \u001b[38;5;124m\"\u001b[39m\u001b[38;5;124mtemplate.html\u001b[39m\u001b[38;5;124m\"\u001b[39m)\n\u001b[0;32m----> 3\u001b[0m template \u001b[38;5;241m=\u001b[39m \u001b[43menv\u001b[49m\u001b[38;5;241;43m.\u001b[39;49m\u001b[43mget_template\u001b[49m\u001b[43m(\u001b[49m\u001b[43mtemplate_path\u001b[49m\u001b[43m)\u001b[49m\n",
      "File \u001b[0;32m~/anaconda3/envs/bcatata/lib/python3.9/site-packages/jinja2/environment.py:1013\u001b[0m, in \u001b[0;36mEnvironment.get_template\u001b[0;34m(self, name, parent, globals)\u001b[0m\n\u001b[1;32m   1010\u001b[0m \u001b[38;5;28;01mif\u001b[39;00m parent \u001b[38;5;129;01mis\u001b[39;00m \u001b[38;5;129;01mnot\u001b[39;00m \u001b[38;5;28;01mNone\u001b[39;00m:\n\u001b[1;32m   1011\u001b[0m     name \u001b[38;5;241m=\u001b[39m \u001b[38;5;28mself\u001b[39m\u001b[38;5;241m.\u001b[39mjoin_path(name, parent)\n\u001b[0;32m-> 1013\u001b[0m \u001b[38;5;28;01mreturn\u001b[39;00m \u001b[38;5;28;43mself\u001b[39;49m\u001b[38;5;241;43m.\u001b[39;49m\u001b[43m_load_template\u001b[49m\u001b[43m(\u001b[49m\u001b[43mname\u001b[49m\u001b[43m,\u001b[49m\u001b[43m \u001b[49m\u001b[38;5;28;43mglobals\u001b[39;49m\u001b[43m)\u001b[49m\n",
      "File \u001b[0;32m~/anaconda3/envs/bcatata/lib/python3.9/site-packages/jinja2/environment.py:972\u001b[0m, in \u001b[0;36mEnvironment._load_template\u001b[0;34m(self, name, globals)\u001b[0m\n\u001b[1;32m    968\u001b[0m             template\u001b[38;5;241m.\u001b[39mglobals\u001b[38;5;241m.\u001b[39mupdate(\u001b[38;5;28mglobals\u001b[39m)\n\u001b[1;32m    970\u001b[0m         \u001b[38;5;28;01mreturn\u001b[39;00m template\n\u001b[0;32m--> 972\u001b[0m template \u001b[38;5;241m=\u001b[39m \u001b[38;5;28;43mself\u001b[39;49m\u001b[38;5;241;43m.\u001b[39;49m\u001b[43mloader\u001b[49m\u001b[38;5;241;43m.\u001b[39;49m\u001b[43mload\u001b[49m\u001b[43m(\u001b[49m\u001b[38;5;28;43mself\u001b[39;49m\u001b[43m,\u001b[49m\u001b[43m \u001b[49m\u001b[43mname\u001b[49m\u001b[43m,\u001b[49m\u001b[43m \u001b[49m\u001b[38;5;28;43mself\u001b[39;49m\u001b[38;5;241;43m.\u001b[39;49m\u001b[43mmake_globals\u001b[49m\u001b[43m(\u001b[49m\u001b[38;5;28;43mglobals\u001b[39;49m\u001b[43m)\u001b[49m\u001b[43m)\u001b[49m\n\u001b[1;32m    974\u001b[0m \u001b[38;5;28;01mif\u001b[39;00m \u001b[38;5;28mself\u001b[39m\u001b[38;5;241m.\u001b[39mcache \u001b[38;5;129;01mis\u001b[39;00m \u001b[38;5;129;01mnot\u001b[39;00m \u001b[38;5;28;01mNone\u001b[39;00m:\n\u001b[1;32m    975\u001b[0m     \u001b[38;5;28mself\u001b[39m\u001b[38;5;241m.\u001b[39mcache[cache_key] \u001b[38;5;241m=\u001b[39m template\n",
      "File \u001b[0;32m~/anaconda3/envs/bcatata/lib/python3.9/site-packages/jinja2/loaders.py:126\u001b[0m, in \u001b[0;36mBaseLoader.load\u001b[0;34m(self, environment, name, globals)\u001b[0m\n\u001b[1;32m    122\u001b[0m     \u001b[38;5;28mglobals\u001b[39m \u001b[38;5;241m=\u001b[39m {}\n\u001b[1;32m    124\u001b[0m \u001b[38;5;66;03m# first we try to get the source for this template together\u001b[39;00m\n\u001b[1;32m    125\u001b[0m \u001b[38;5;66;03m# with the filename and the uptodate function.\u001b[39;00m\n\u001b[0;32m--> 126\u001b[0m source, filename, uptodate \u001b[38;5;241m=\u001b[39m \u001b[38;5;28;43mself\u001b[39;49m\u001b[38;5;241;43m.\u001b[39;49m\u001b[43mget_source\u001b[49m\u001b[43m(\u001b[49m\u001b[43menvironment\u001b[49m\u001b[43m,\u001b[49m\u001b[43m \u001b[49m\u001b[43mname\u001b[49m\u001b[43m)\u001b[49m\n\u001b[1;32m    128\u001b[0m \u001b[38;5;66;03m# try to load the code from the bytecode cache if there is a\u001b[39;00m\n\u001b[1;32m    129\u001b[0m \u001b[38;5;66;03m# bytecode cache configured.\u001b[39;00m\n\u001b[1;32m    130\u001b[0m bcc \u001b[38;5;241m=\u001b[39m environment\u001b[38;5;241m.\u001b[39mbytecode_cache\n",
      "File \u001b[0;32m~/anaconda3/envs/bcatata/lib/python3.9/site-packages/jinja2/loaders.py:207\u001b[0m, in \u001b[0;36mFileSystemLoader.get_source\u001b[0;34m(self, environment, template)\u001b[0m\n\u001b[1;32m    205\u001b[0m         \u001b[38;5;28;01mbreak\u001b[39;00m\n\u001b[1;32m    206\u001b[0m \u001b[38;5;28;01melse\u001b[39;00m:\n\u001b[0;32m--> 207\u001b[0m     \u001b[38;5;28;01mraise\u001b[39;00m TemplateNotFound(template)\n\u001b[1;32m    209\u001b[0m \u001b[38;5;28;01mwith\u001b[39;00m \u001b[38;5;28mopen\u001b[39m(filename, encoding\u001b[38;5;241m=\u001b[39m\u001b[38;5;28mself\u001b[39m\u001b[38;5;241m.\u001b[39mencoding) \u001b[38;5;28;01mas\u001b[39;00m f:\n\u001b[1;32m    210\u001b[0m     contents \u001b[38;5;241m=\u001b[39m f\u001b[38;5;241m.\u001b[39mread()\n",
      "\u001b[0;31mTemplateNotFound\u001b[0m: /home/galymzhan/cheminf_blog/pages/template.html"
     ]
    }
   ],
   "source": [
    "# Load the template\n",
    "template_path = os.path.join(DIR_PATH, 'pages', \"template.html\")\n",
    "template = env.get_template(template_path)\n"
   ]
  },
  {
   "cell_type": "code",
   "execution_count": null,
   "metadata": {},
   "outputs": [],
   "source": [
    "# Define page data\n",
    "data = {\n",
    "    \"page_title\": \"Molecules and Fingerprints\",\n",
    "    \"sections\": [\n",
    "        {\n",
    "            \"heading\": \"Intro and Background\",\n",
    "            \"content\": [\n",
    "                \"Similar molecules display similar properties. This is the biggest premise of cheminformatics.\",\n",
    "                \"Let’s say we have an enzyme Galymzhanase, which is responsible for Galymzhanic disease...\"\n",
    "            ],\n",
    "        },\n",
    "        {\n",
    "            \"heading\": \"Molecular Fingerprints\",\n",
    "            \"content\": [\n",
    "                \"In order to speed up this process...\",\n",
    "                \"Now instead of operating sets of molecular subgraphs...\"\n",
    "            ],\n",
    "            \"image\": {\n",
    "                \"src\": \"https://moldagulovg.github.io/cheminf_blog/media/fps_vis.png\",\n",
    "                \"alt\": \"Visualization of molecular fingerprints\",\n",
    "                \"caption\": \"(a)\",\n",
    "            },\n",
    "        },\n",
    "    ],\n",
    "    \"references\": [\n",
    "        {\n",
    "            \"text\": \"Similarity. J. Med. Chem. 2014, 57, 8, 3186–3204\",\n",
    "            \"link\": \"https://doi.org/10.1021/jm401411z\",\n",
    "        },\n",
    "        {\n",
    "            \"text\": \"ECFP. J. Chem. Inf. Model. 2010, 50, 5, 742–754\",\n",
    "            \"link\": \"https://doi.org/10.1021/ci100050t\",\n",
    "        },\n",
    "    ],\n",
    "}\n",
    "\n"
   ]
  },
  {
   "cell_type": "code",
   "execution_count": null,
   "metadata": {},
   "outputs": [],
   "source": [
    "# Render the template with data\n",
    "output_html = template.render(data)\n",
    "\n",
    "# Save the output\n",
    "output_path = \"output.html\"\n",
    "with open(output_path, \"w\") as f:\n",
    "    f.write(output_html)\n",
    "\n",
    "print(f\"HTML page generated: {os.path.abspath(output_path)}\")\n"
   ]
  }
 ],
 "metadata": {
  "kernelspec": {
   "display_name": "bcatata",
   "language": "python",
   "name": "python3"
  },
  "language_info": {
   "codemirror_mode": {
    "name": "ipython",
    "version": 3
   },
   "file_extension": ".py",
   "mimetype": "text/x-python",
   "name": "python",
   "nbconvert_exporter": "python",
   "pygments_lexer": "ipython3",
   "version": "3.9.18"
  }
 },
 "nbformat": 4,
 "nbformat_minor": 2
}
